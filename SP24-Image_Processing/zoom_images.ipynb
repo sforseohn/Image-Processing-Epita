{
 "cells": [
  {
   "cell_type": "code",
   "execution_count": 1,
   "id": "f8168eef-eae4-4894-9896-b0c11e3119ee",
   "metadata": {},
   "outputs": [],
   "source": [
    "def zoom_images(img_dict, slicex, slicey):\n",
    "    '''\n",
    "    Showing the part of one or many image.s defined by a slice\n",
    "    img_dict: dictionary containing the title of each image and the image itself\n",
    "    slicex: x axis coordinates allowing to slice the images\n",
    "    slicey: y axis coordinates allowing to slice the images\n",
    "    '''\n",
    "    %matplotlib inline\n",
    "    plt.close()\n",
    "    fig = plt.figure(figsize=(13,5))\n",
    "    fig.canvas.header_visible = False\n",
    "    ncols = len(img_dict)\n",
    "    for ii, (name, image) in enumerate(img_dict.items()):\n",
    "        plt.subplot(2,ncols,ii+1)\n",
    "        plt.imshow(image, cmap='gray')\n",
    "        plt.title(name)\n",
    "        plt.subplot(2,ncols, ncols+ii+1)        \n",
    "        plt.imshow(image[slicex, slicey], cmap='gray')\n",
    "        plt.title('zoom zoom zoom')\n",
    "    plt.tight_layout()\n",
    "    plt.show()"
   ]
  }
 ],
 "metadata": {
  "kernelspec": {
   "display_name": "Python 3 (ipykernel)",
   "language": "python",
   "name": "python3"
  },
  "language_info": {
   "codemirror_mode": {
    "name": "ipython",
    "version": 3
   },
   "file_extension": ".py",
   "mimetype": "text/x-python",
   "name": "python",
   "nbconvert_exporter": "python",
   "pygments_lexer": "ipython3",
   "version": "3.10.14"
  }
 },
 "nbformat": 4,
 "nbformat_minor": 5
}

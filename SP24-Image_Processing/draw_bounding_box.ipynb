{
 "cells": [
  {
   "cell_type": "code",
   "execution_count": null,
   "id": "3879cf05-3b96-4189-9bb6-f1e4cec4bdef",
   "metadata": {},
   "outputs": [],
   "source": [
    "from skimage.draw import rectangle_perimeter\n",
    "\n",
    "def draw_bounding_box(image, bbox, bb_color='yellow', origin=(0, 0), padding=0):\n",
    "\n",
    "    bb_y1, bb_x1, bb_y2, bb_x2 = bbox\n",
    "    y_origin, x_origin = origin\n",
    "\n",
    "    # inner border\n",
    "    start = (bb_y1 + y_origin - padding, bb_x1 + x_origin - padding)\n",
    "    end = (bb_y2 + y_origin + padding, bb_x2 + x_origin + padding)\n",
    "    rr, cc = rectangle_perimeter(start, end=end, shape=image.shape)\n",
    "\n",
    "    # outter border\n",
    "    start2 = (bb_y1-1 + y_origin - padding, bb_x1-1 + x_origin - padding)\n",
    "    end2 = (bb_y2+1 + y_origin + padding, bb_x2+1 + x_origin + padding)\n",
    "    rr2, cc2 = rectangle_perimeter(start2, end=end2, shape=image.shape)\n",
    "\n",
    "    if bb_color == 'yellow':    \n",
    "        image[rr, cc, 0] = 255\n",
    "        image[rr, cc, 1] = 255\n",
    "        image[rr2, cc2, 0] = 255\n",
    "        image[rr2, cc2, 1] = 255\n",
    "        \n",
    "    elif bb_color == 'red':\n",
    "        image[rr, cc, 0] = 255\n",
    "        image[rr2, cc2, 0] = 255\n",
    "        \n",
    "    elif bb_color == 'blue':\n",
    "        image[rr, cc, 2] = 255\n",
    "        image[rr2, cc2, 2] = 255\n",
    "\n",
    "    return image"
   ]
  }
 ],
 "metadata": {
  "kernelspec": {
   "display_name": "Python 3 (ipykernel)",
   "language": "python",
   "name": "python3"
  },
  "language_info": {
   "codemirror_mode": {
    "name": "ipython",
    "version": 3
   },
   "file_extension": ".py",
   "mimetype": "text/x-python",
   "name": "python",
   "nbconvert_exporter": "python",
   "pygments_lexer": "ipython3",
   "version": "3.10.14"
  }
 },
 "nbformat": 4,
 "nbformat_minor": 5
}

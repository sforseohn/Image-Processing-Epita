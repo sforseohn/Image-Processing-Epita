{
 "cells": [
  {
   "cell_type": "code",
   "execution_count": null,
   "id": "6c0d54fa-624a-40b3-9c3d-9df4e229efca",
   "metadata": {},
   "outputs": [],
   "source": [
    "import matplotlib.pyplot as plt\n",
    "import matplotlib.animation as animation\n",
    "\n",
    "def play_video(video_frames, interval, show_axis='on'):\n",
    "    '''\n",
    "    Function allowing to play a video.\n",
    "    video_frames: sequence of frames to read. Each frame is an image.\n",
    "    interval: time in ms between two frames.\n",
    "    show_axis: 'on' to show axis values, 'off' to hide them.\n",
    "    '''\n",
    "    %matplotlib widget\n",
    "    global im, fig, ani\n",
    "    fig = plt.figure(figsize=(10,5))\n",
    "    fig.canvas.header_visible = False\n",
    "    im = plt.imshow(video_frames[0], vmin=0., vmax=1., cmap='gray')\n",
    "    def show_frame_by_frame(frame, *fargs):\n",
    "        im.set_data(frame)\n",
    "        return im\n",
    "    ani = animation.FuncAnimation(fig, show_frame_by_frame, frames=video_frames, interval=interval, repeat=False, blit=True, cache_frame_data=True)\n",
    "    plt.axis(show_axis)\n",
    "    plt.show()\n",
    "    return ani"
   ]
  }
 ],
 "metadata": {
  "kernelspec": {
   "display_name": "Python 3 (ipykernel)",
   "language": "python",
   "name": "python3"
  },
  "language_info": {
   "codemirror_mode": {
    "name": "ipython",
    "version": 3
   },
   "file_extension": ".py",
   "mimetype": "text/x-python",
   "name": "python",
   "nbconvert_exporter": "python",
   "pygments_lexer": "ipython3",
   "version": "3.10.14"
  }
 },
 "nbformat": 4,
 "nbformat_minor": 5
}

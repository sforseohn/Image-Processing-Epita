{
 "cells": [
  {
   "cell_type": "code",
   "execution_count": 3,
   "id": "04b68b82-93c5-4a39-a2e7-b905437b844d",
   "metadata": {},
   "outputs": [],
   "source": [
    "import matplotlib.pyplot as pyplot\n",
    "import numpy\n",
    "\n",
    "def display_viridis_cmap():\n",
    "    \n",
    "    v_array = numpy.zeros( (10,256), dtype=numpy.uint8)\n",
    "    h, w = v_array.shape\n",
    "    \n",
    "    for l in range(h):\n",
    "        v_array[l] = numpy.arange(256)\n",
    "    \n",
    "    fig = pyplot.figure()\n",
    "    pyplot.imshow(v_array)\n",
    "    pyplot.title(\"cmap='viridis'\")\n",
    "    pyplot.yticks([])\n",
    "    pyplot.show()"
   ]
  }
 ],
 "metadata": {
  "kernelspec": {
   "display_name": "Python 3 (ipykernel)",
   "language": "python",
   "name": "python3"
  },
  "language_info": {
   "codemirror_mode": {
    "name": "ipython",
    "version": 3
   },
   "file_extension": ".py",
   "mimetype": "text/x-python",
   "name": "python",
   "nbconvert_exporter": "python",
   "pygments_lexer": "ipython3",
   "version": "3.10.14"
  }
 },
 "nbformat": 4,
 "nbformat_minor": 5
}

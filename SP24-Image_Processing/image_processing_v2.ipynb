{
 "cells": [
  {
   "cell_type": "code",
   "execution_count": 1,
   "id": "d53735ce-30f2-41a7-9d87-ba01bfc8ad1b",
   "metadata": {},
   "outputs": [],
   "source": [
    "import skimage.color as color\n",
    "from skimage import img_as_ubyte\n",
    "from skimage.filters import difference_of_gaussians\n",
    "from skimage.filters import threshold_otsu\n",
    "%run functions/bin_threshold.ipynb\n",
    "\n",
    "def image_processing_v2(image, threshold='otsu'):\n",
    "    '''\n",
    "    Implementation of an image processing pipeline.\n",
    "    image: np.ndarray to treat\n",
    "    threshold: pixel value used as a threshold for a binary thresholding. \n",
    "    By default, threshold='otsu' which mean that the threshold is given\n",
    "    automatically.\n",
    "    returns: a bool binary image\n",
    "    '''\n",
    "    # Preprocessing\n",
    "    g = img_as_ubyte(color.rgb2gray(image))\n",
    "    l_sigma = 1\n",
    "    h_sigma = 12\n",
    "    bp_f = img_as_ubyte(difference_of_gaussians(g, l_sigma, h_sigma))\n",
    "    \n",
    "    th = threshold\n",
    "    if threshold == 'otsu':\n",
    "        th = threshold_otsu(bp_f)\n",
    "        \n",
    "    # Binarization\n",
    "    return bin_threshold(img_as_ubyte(bp_f), th)"
   ]
  }
 ],
 "metadata": {
  "kernelspec": {
   "display_name": "Python 3 (ipykernel)",
   "language": "python",
   "name": "python3"
  },
  "language_info": {
   "codemirror_mode": {
    "name": "ipython",
    "version": 3
   },
   "file_extension": ".py",
   "mimetype": "text/x-python",
   "name": "python",
   "nbconvert_exporter": "python",
   "pygments_lexer": "ipython3",
   "version": "3.10.14"
  }
 },
 "nbformat": 4,
 "nbformat_minor": 5
}

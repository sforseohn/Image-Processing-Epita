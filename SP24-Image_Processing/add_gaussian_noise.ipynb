{
 "cells": [
  {
   "cell_type": "code",
   "execution_count": null,
   "id": "b1fe7f45-5c7a-4bcd-89e9-d20c84acc302",
   "metadata": {
    "editable": true,
    "slideshow": {
     "slide_type": ""
    },
    "tags": []
   },
   "outputs": [],
   "source": [
    "def add_gaussian_noise(img,sigma=40):\n",
    "    '''\n",
    "    Adding a gaussian noise according to a sigma.\n",
    "    img: ndarray (image to consider)\n",
    "    sigma: value determining how the gaussian noise is distributed on the image img\n",
    "    returns: a float ndarray of the image with gaussian noise\n",
    "    '''\n",
    "    # Define additive gaussian noise\n",
    "    noise = sigma*np.random.randn(img.size).reshape(img.shape) # generate noise image from Gaussian distribution\n",
    "    img_noise = img * 1.0 + noise # add it to original image (caution with the type...)\n",
    "    return img_noise"
   ]
  }
 ],
 "metadata": {
  "kernelspec": {
   "display_name": "Python 3 (ipykernel)",
   "language": "python",
   "name": "python3"
  },
  "language_info": {
   "codemirror_mode": {
    "name": "ipython",
    "version": 3
   },
   "file_extension": ".py",
   "mimetype": "text/x-python",
   "name": "python",
   "nbconvert_exporter": "python",
   "pygments_lexer": "ipython3",
   "version": "3.10.14"
  }
 },
 "nbformat": 4,
 "nbformat_minor": 5
}

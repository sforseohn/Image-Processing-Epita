{
 "cells": [
  {
   "cell_type": "code",
   "execution_count": null,
   "id": "6c0d54fa-624a-40b3-9c3d-9df4e229efca",
   "metadata": {
    "editable": true,
    "slideshow": {
     "slide_type": ""
    },
    "tags": []
   },
   "outputs": [],
   "source": [
    "import imageio as iio\n",
    "\n",
    "# Loading the video_1\n",
    "path_to_videos = 'videos/'\n",
    "video_path = os.path.join(path_to_videos, 'video_1_360.mp4') # or video_path = `../videos/video_1_360.mp4`\n",
    "video_reader = iio.get_reader(video_path)\n",
    "\n",
    "# Copying the frames into a list\n",
    "video_frames = []\n",
    "iterator = video_reader.iter_data() \n",
    "for img in iterator:\n",
    "    video_frames.append(img)"
   ]
  }
 ],
 "metadata": {
  "kernelspec": {
   "display_name": "Python 3 (ipykernel)",
   "language": "python",
   "name": "python3"
  },
  "language_info": {
   "codemirror_mode": {
    "name": "ipython",
    "version": 3
   },
   "file_extension": ".py",
   "mimetype": "text/x-python",
   "name": "python",
   "nbconvert_exporter": "python",
   "pygments_lexer": "ipython3",
   "version": "3.10.14"
  }
 },
 "nbformat": 4,
 "nbformat_minor": 5
}

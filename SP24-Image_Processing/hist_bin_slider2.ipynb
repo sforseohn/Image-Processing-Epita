{
 "cells": [
  {
   "cell_type": "code",
   "execution_count": null,
   "id": "da74b322-977b-44a8-a08c-f3017dfa9065",
   "metadata": {
    "editable": true,
    "scrolled": true,
    "slideshow": {
     "slide_type": ""
    },
    "tags": []
   },
   "outputs": [],
   "source": [
    "%matplotlib widget\n",
    "\n",
    "from ipywidgets import interact\n",
    "import ipywidgets as widgets\n",
    "import skimage.color\n",
    "\n",
    "@interact(threshold=widgets.FloatSlider(value=180,min=0,max=255,step=1,description='Threshold',continuous_update=False))\n",
    "def hist_bin_slider2(threshold):\n",
    "    plt.close()\n",
    "    \n",
    "    img_hist1 = np.bincount(g_img1.ravel(), minlength=256)\n",
    "    bin_thr1 = bin_threshold(g_img1, threshold)\n",
    "\n",
    "    img_hist2 = np.bincount(g_img2.ravel(), minlength=256)\n",
    "    bin_thr2 = bin_threshold(g_img2, threshold)\n",
    "\n",
    "    fig = plt.figure(figsize=(10,10))\n",
    "    fig.canvas.header_visible = False\n",
    "    \n",
    "    plt.subplot(321)\n",
    "    plt.title(\"ubyte_gray1\" )\n",
    "    plt.imshow(g_img1, cmap=\"gray\")\n",
    "\n",
    "    plt.subplot(322)\n",
    "    plt.title(\"ubyte_gray2\" )\n",
    "    plt.imshow(g_img2, cmap=\"gray\")\n",
    "\n",
    "    plt.subplot(323)\n",
    "    plt.title(f\"Binary threshold 1: {int(threshold)}\")\n",
    "    plt.imshow(bin_thr1, cmap=\"gray\")\n",
    "\n",
    "    plt.subplot(324)\n",
    "    plt.title(f\"Binary threshold 2: {int(threshold)}\")\n",
    "    plt.imshow(bin_thr2, cmap=\"gray\")\n",
    "\n",
    "    plt.subplot(325)    \n",
    "    plt.title(\"Histogram 1\" )\n",
    "    plt.bar(np.arange(256), img_hist1, label=\"Histogram\")\n",
    "    plt.xlabel(\"Pixel values\")\n",
    "    plt.ylabel(\"Number of pixels\")\n",
    "    plt.axvline(threshold, color='r', linewidth=2, linestyle= '--', label='Threshold')\n",
    "\n",
    "    plt.subplot(326)    \n",
    "    plt.title(\"Histogram 2\" )\n",
    "    plt.bar(np.arange(256), img_hist2, label=\"Histogram\")\n",
    "    plt.xlabel(\"Pixel values\")\n",
    "    plt.ylabel(\"Number of pixels\")\n",
    "    plt.axvline(threshold, color='r', linewidth=2, linestyle= '--', label='Threshold')\n",
    "    \n",
    "    plt.legend()\n",
    "    plt.axis('tight')\n",
    "    plt.show(False)"
   ]
  }
 ],
 "metadata": {
  "kernelspec": {
   "display_name": "Python 3 (ipykernel)",
   "language": "python",
   "name": "python3"
  },
  "language_info": {
   "codemirror_mode": {
    "name": "ipython",
    "version": 3
   },
   "file_extension": ".py",
   "mimetype": "text/x-python",
   "name": "python",
   "nbconvert_exporter": "python",
   "pygments_lexer": "ipython3",
   "version": "3.10.14"
  }
 },
 "nbformat": 4,
 "nbformat_minor": 5
}

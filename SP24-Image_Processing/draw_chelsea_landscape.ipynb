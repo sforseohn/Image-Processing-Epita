{
 "cells": [
  {
   "cell_type": "code",
   "execution_count": 18,
   "id": "b9b3e943-4bd8-49fc-9f71-535a930baa57",
   "metadata": {},
   "outputs": [],
   "source": [
    "%matplotlib widget\n",
    "\n",
    "from skimage import data as data\n",
    "import skimage.transform as transform\n",
    "from skimage.color import rgb2gray\n",
    "from matplotlib import pyplot as plt\n",
    "import numpy as np\n",
    "\n",
    "def draw_chelsea_landscape():\n",
    "    '''\n",
    "    Drawing a topological landscape of a lena grayscale image and projecting it into a 3D space.\n",
    "    grayscale_image: considered as a matrix.\n",
    "    '''\n",
    "    grayscale_image = rgb2gray(data.chelsea())\n",
    "    Y,X = np.mgrid[0:grayscale_image.shape[0],0:grayscale_image.shape[1]]\n",
    "    fig = plt.figure()\n",
    "    fig.canvas.header_visible = False\n",
    "    ax = fig.add_subplot(111, projection='3d')\n",
    "    ax.plot_surface(Y, X, grayscale_image, cmap='gray')\n",
    "    ax.view_init(100, 0)\n",
    "    plt.show()"
   ]
  },
  {
   "cell_type": "code",
   "execution_count": null,
   "id": "a000a68d-92f7-4cfd-a72c-6ce3600b5eba",
   "metadata": {},
   "outputs": [],
   "source": [
    "# draw_chelsea_landscape()"
   ]
  },
  {
   "cell_type": "code",
   "execution_count": 20,
   "id": "6928f59e-8b4b-48fe-8e71-3f943b57fa79",
   "metadata": {},
   "outputs": [],
   "source": [
    "# plt.close()"
   ]
  }
 ],
 "metadata": {
  "kernelspec": {
   "display_name": "Python 3 (ipykernel)",
   "language": "python",
   "name": "python3"
  },
  "language_info": {
   "codemirror_mode": {
    "name": "ipython",
    "version": 3
   },
   "file_extension": ".py",
   "mimetype": "text/x-python",
   "name": "python",
   "nbconvert_exporter": "python",
   "pygments_lexer": "ipython3",
   "version": "3.10.14"
  }
 },
 "nbformat": 4,
 "nbformat_minor": 5
}

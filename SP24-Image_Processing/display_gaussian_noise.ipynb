{
 "cells": [
  {
   "cell_type": "code",
   "execution_count": null,
   "id": "2768d8f3-4732-4f9c-812c-92a05c428bf4",
   "metadata": {
    "editable": true,
    "slideshow": {
     "slide_type": ""
    },
    "tags": []
   },
   "outputs": [],
   "source": [
    "@interact(sigma = widgets.IntSlider(min=0,max=100,step=5,value=40,description=r'$\\sigma$'))\n",
    "def display_gaussian_noise(sigma):\n",
    "    plt.close()\n",
    "    img_gaussian_noise = add_gaussian_noise(image,sigma=sigma)\n",
    "    img_min, img_max = np.round([img_gaussian_noise.min(), img_gaussian_noise.max()])  \n",
    "    fig = plt.figure(figsize=(15,5))\n",
    "    fig.canvas.header_visible = False\n",
    "    plt.subplot(121)\n",
    "    plt.imshow(image, cmap='gray')\n",
    "    plt.subplot(122)\n",
    "    plt.imshow(img_gaussian_noise, cmap='gray')\n",
    "    plt.title('Noisy image')\n",
    "    plt.show()"
   ]
  }
 ],
 "metadata": {
  "kernelspec": {
   "display_name": "Python 3 (ipykernel)",
   "language": "python",
   "name": "python3"
  },
  "language_info": {
   "codemirror_mode": {
    "name": "ipython",
    "version": 3
   },
   "file_extension": ".py",
   "mimetype": "text/x-python",
   "name": "python",
   "nbconvert_exporter": "python",
   "pygments_lexer": "ipython3",
   "version": "3.10.14"
  }
 },
 "nbformat": 4,
 "nbformat_minor": 5
}

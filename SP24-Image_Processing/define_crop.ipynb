{
 "cells": [
  {
   "cell_type": "code",
   "execution_count": 1,
   "id": "03d8883f-bb1c-4307-b94c-a8434da815b9",
   "metadata": {},
   "outputs": [],
   "source": [
    "def define_crop(position_sequence, width, height):\n",
    "\n",
    "    y_origin, x_origin = (0, 0)\n",
    "    slicey = slice(0, height)\n",
    "    slicex = slice(0, width)\n",
    "    \n",
    "    if (len(position_sequence) > 0):\n",
    "        ylast_pos, xlast_pos = position_sequence[-1]\n",
    "        ylast_pos = int(ylast_pos)\n",
    "        xlast_pos = int(xlast_pos)\n",
    "\n",
    "        y_origin = ylast_pos - radius\n",
    "        if y_origin < 0:\n",
    "            y_origin = 0\n",
    "            \n",
    "        x_origin = xlast_pos - radius\n",
    "        if x_origin < 0:\n",
    "            x_origin = 0\n",
    "\n",
    "        y_end = ylast_pos + radius\n",
    "        if y_end >= height:\n",
    "            y_end = height - 1\n",
    "\n",
    "        x_end = xlast_pos + radius\n",
    "        if x_end >= width:\n",
    "            x_end = width - 1\n",
    "        \n",
    "        slicey = slice(y_origin, y_end)\n",
    "        slicex = slice(x_origin, x_end)\n",
    "\n",
    "    return (slicey, slicex, y_origin, x_origin)"
   ]
  }
 ],
 "metadata": {
  "kernelspec": {
   "display_name": "Python 3 (ipykernel)",
   "language": "python",
   "name": "python3"
  },
  "language_info": {
   "codemirror_mode": {
    "name": "ipython",
    "version": 3
   },
   "file_extension": ".py",
   "mimetype": "text/x-python",
   "name": "python",
   "nbconvert_exporter": "python",
   "pygments_lexer": "ipython3",
   "version": "3.10.14"
  }
 },
 "nbformat": 4,
 "nbformat_minor": 5
}

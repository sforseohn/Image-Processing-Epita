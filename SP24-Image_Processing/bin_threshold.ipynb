{
 "cells": [
  {
   "cell_type": "code",
   "execution_count": null,
   "id": "a42e2192-8beb-4183-b29a-b1648b06aae8",
   "metadata": {},
   "outputs": [],
   "source": [
    "def bin_threshold(grayscale_img, threshold):\n",
    "    '''\n",
    "    Doing a binary threshold according to a specified value.\n",
    "    img: grayscale image to treat.\n",
    "    threshold: value from which pixels will be considered.\n",
    "    return a binary image keeping only the pixels of img having a value >= of the threshold.\n",
    "    '''\n",
    "    return grayscale_img >= threshold"
   ]
  }
 ],
 "metadata": {
  "kernelspec": {
   "display_name": "Python 3 (ipykernel)",
   "language": "python",
   "name": "python3"
  },
  "language_info": {
   "codemirror_mode": {
    "name": "ipython",
    "version": 3
   },
   "file_extension": ".py",
   "mimetype": "text/x-python",
   "name": "python",
   "nbconvert_exporter": "python",
   "pygments_lexer": "ipython3",
   "version": "3.10.14"
  }
 },
 "nbformat": 4,
 "nbformat_minor": 5
}

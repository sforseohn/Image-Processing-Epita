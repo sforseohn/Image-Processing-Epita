{
 "cells": [
  {
   "cell_type": "code",
   "execution_count": null,
   "id": "5743ae56-e0d3-4f76-9ddc-037d0fe0f555",
   "metadata": {
    "editable": true,
    "slideshow": {
     "slide_type": ""
    },
    "tags": []
   },
   "outputs": [],
   "source": [
    "%matplotlib widget\n",
    "\n",
    "from ipywidgets import interact\n",
    "import ipywidgets as widgets\n",
    "import skimage.color\n",
    "\n",
    "try: th\n",
    "except NameError: th = None\n",
    "\n",
    "try: line_position\n",
    "except NameError: line_position = 143\n",
    "\n",
    "gh = grayscale_image.shape[0]\n",
    "@interact(line_pos=widgets.FloatSlider(value=line_position,min=1,max=gh-1,step=1,description='Line position',continuous_update=False))\n",
    "def draw_profile(line_pos):\n",
    "    plt.close()\n",
    "    y_profile = int(line_pos)\n",
    "    profile_orig = grayscale_image[y_profile,:].ravel()\n",
    "    img_rgb = skimage.color.gray2rgb(grayscale_image)\n",
    "    img_rgb[y_profile,:,1] = 255    \n",
    "    fig, axs = plt.subplots(2,1,figsize=(10,9), height_ratios=[2, 1])\n",
    "    fig.canvas.header_visible = False\n",
    "    im = axs[0].imshow(img_rgb, cmap='gray')\n",
    "    axs[1].plot(profile_orig, 'g--', label=\"profile\")\n",
    "    if th is not None:\n",
    "        plt.axhline(th, color='r', linewidth=2, linestyle= '--', label='Threshold')\n",
    "    plt.xlabel(\"Width (or columns) of the image\")\n",
    "    plt.ylabel(\"Grayscale levels\")\n",
    "    plt.xlim(0, 684)\n",
    "    plt.legend()\n",
    "    # fig.colorbar(im, orientation='vertical')\n",
    "    plt.show(False)"
   ]
  }
 ],
 "metadata": {
  "kernelspec": {
   "display_name": "Python 3 (ipykernel)",
   "language": "python",
   "name": "python3"
  },
  "language_info": {
   "codemirror_mode": {
    "name": "ipython",
    "version": 3
   },
   "file_extension": ".py",
   "mimetype": "text/x-python",
   "name": "python",
   "nbconvert_exporter": "python",
   "pygments_lexer": "ipython3",
   "version": "3.10.14"
  }
 },
 "nbformat": 4,
 "nbformat_minor": 5
}

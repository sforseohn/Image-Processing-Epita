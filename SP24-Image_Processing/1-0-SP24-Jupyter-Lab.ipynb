{
 "cells": [
  {
   "cell_type": "markdown",
   "id": "c1f92ebe-fe44-41ed-977a-171360406799",
   "metadata": {},
   "source": [
    "# <font color=\"dodgerblue\">Quick introduction to Jupyter<font color=\"dodgerblue\">"
   ]
  },
  {
   "cell_type": "markdown",
   "id": "25ce4ce3-e531-403f-9ab4-6ddfea61f349",
   "metadata": {},
   "source": [
    "During our lab sessions, we will work on:\n",
    "- Jupyter lab or notebook\n",
    "- python"
   ]
  },
  {
   "cell_type": "markdown",
   "id": "6797e284-7b8b-4f21-b4b6-5a0fabccde1f",
   "metadata": {},
   "source": [
    "[Jupyter](https://jupyter.org/) is a great tool.\n",
    "\n",
    "It allows uas to use *notebooks* which can contain a set of ordered *cells*.\n",
    "\n",
    "There are usually two tipes of cell:\n",
    "\n",
    "- **cell code** where we type our python codes\n",
    "- **commentary cell** whhere we add some [Markdown](https://www.google.com/url?sa=t&source=web&rct=j&opi=89978449&url=https://en.wikipedia.org/wiki/Markdown&ved=2ahUKEwjx0s7X9aiHAxW4fKQEHfdGBTYQFnoECBIQAQ&usg=AOvVaw29vUwtb3gVG6rhYhCaDfbr) texts.\n",
    "\n",
    "Those cells can be executed:\n",
    "- individually,\n",
    "- many times as we wish,\n",
    "- in the order that we want"
   ]
  },
  {
   "cell_type": "markdown",
   "id": "2342ecad-6f1f-47e0-9aab-4b28dae73a21",
   "metadata": {},
   "source": [
    "## <font color=\"dodgerblue\">Le *kernel*</font>\n",
    "\n",
    "Is notebook is associated with a *kernek* which is a **python process**, with some defined variables and functions.\n",
    "We can modify all the variables and the functions from a cell code to another.\n",
    "\n",
    "Be carefull though!\n",
    "An execution can alter the previous defined variables or functions so if we run cells randomly, we could end up with a mess."
   ]
  },
  {
   "cell_type": "markdown",
   "id": "a2fabf53-db98-4c15-969b-eae4779e8b86",
   "metadata": {},
   "source": [
    "## <font color=\"dodgerblue\">Executing cells</font>\n",
    "\n",
    "Really easy:\n",
    "1. Selecting the cell to execute\n",
    "2. Activate the edition mode (<kbd>Enter</kbd>)\n",
    "3. Many choices :\n",
    "  - <kbd>Ctrl</kbd>+<kbd>Enter</kbd> for just running;\n",
    "  - <kbd>Shift</kbd>+<kbd>Enter</kbd> for running the current cell and switch to the next one;\n",
    "  - <kbd>Alt</kbd>+<kbd>Enter</kbd> for running the current cell, adding a new cell bellow and activating its edition mode."
   ]
  },
  {
   "cell_type": "markdown",
   "id": "8f82905a-b974-467a-8f0d-153fe168ded1",
   "metadata": {},
   "source": [
    "Your turn!"
   ]
  },
  {
   "cell_type": "markdown",
   "id": "a2ad9538-df5c-475b-a5f1-3447e4ec47d2",
   "metadata": {},
   "source": [
    "<div style=\"padding : 20px; background-color:#E6E6FA;\">\n",
    "\n",
    "##### **<font color=\"#1E90FF\">TODO <font size='5'>🔻</font> -- Select the cell bellow and run the code.</font> <font size='5'>🔨</font>**\n",
    "\n",
    "</div>"
   ]
  },
  {
   "cell_type": "code",
   "execution_count": null,
   "id": "9896e15d-42da-4826-b104-fdabbfa2c5d1",
   "metadata": {},
   "outputs": [],
   "source": [
    "print('%$d!à *équ!o2j$ snxeeinbo  o1v arr3B$'[-2:2:-2])"
   ]
  },
  {
   "cell_type": "markdown",
   "id": "66303e96-05ce-43df-a701-b58373fa99f1",
   "metadata": {},
   "source": [
    "## <font color=\"dodgerblue\">Quick showing a result</font>\n",
    "\n",
    "The rule is really simple: Jupyter prints or displays the value of the last instruction sent.\n"
   ]
  },
  {
   "cell_type": "code",
   "execution_count": null,
   "id": "eda2d8e0-0a16-4db1-804c-c0c4dece102d",
   "metadata": {},
   "outputs": [],
   "source": [
    "None  # Displays nothing"
   ]
  },
  {
   "cell_type": "code",
   "execution_count": null,
   "id": "44b83d5e-8a5f-4c76-bc7f-1451f62cc59c",
   "metadata": {},
   "outputs": [],
   "source": [
    "1  # Displays 1"
   ]
  },
  {
   "cell_type": "code",
   "execution_count": null,
   "id": "331b91f9-a8b4-4b69-9d72-53e62f06ed05",
   "metadata": {},
   "outputs": [],
   "source": [
    "1\n",
    "2  # Displays 2"
   ]
  },
  {
   "cell_type": "code",
   "execution_count": null,
   "id": "3c590031-1bac-497f-ba45-af4815e9e171",
   "metadata": {},
   "outputs": [],
   "source": [
    "print(\"1\")  # We can then print the values that we want to see even if they are not the final result of the cell\n",
    "2"
   ]
  },
  {
   "cell_type": "markdown",
   "id": "9c0c1d58-9aff-42ca-9c4d-5ca78ad94f2a",
   "metadata": {},
   "source": [
    "## <font color=\"dodgerblue\">Importance of the order of cell executions</font>"
   ]
  },
  {
   "cell_type": "markdown",
   "id": "6cb45273-6bd2-4a66-ae67-3bb85bc66eab",
   "metadata": {},
   "source": [
    "<div style=\"padding : 20px; background-color:#E6E6FA;\">\n",
    "\n",
    "##### **<font color=\"#1E90FF\">TODO <font size='5'>🔻</font> -- What happens if we run the cell bellow in a random order?</font> <font size='5'>🔨</font>**\n",
    "\n",
    "Feel free to experiment by yourself and undersand what happens. <font size='5'>🔬</font>\n",
    "\n",
    "</div>"
   ]
  },
  {
   "cell_type": "code",
   "execution_count": null,
   "id": "b9a27bc2-7458-4272-aa4a-bbc79aa2a332",
   "metadata": {},
   "outputs": [],
   "source": [
    "my_var = 1"
   ]
  },
  {
   "cell_type": "code",
   "execution_count": null,
   "id": "d642ec1d-0f0b-479d-8d5d-060ae07a752b",
   "metadata": {},
   "outputs": [],
   "source": [
    "my_var += 1"
   ]
  },
  {
   "cell_type": "code",
   "execution_count": null,
   "id": "cfd4068f-fad6-4804-b0d0-2874dab94312",
   "metadata": {},
   "outputs": [],
   "source": [
    "my_var"
   ]
  },
  {
   "cell_type": "markdown",
   "id": "f93f1c21-249a-45ef-bf07-38afa059fa4f",
   "metadata": {},
   "source": [
    "# <font color=\"dodgerblue\">Well done!</font>\n",
    "\n",
    "You are ready for the image and video processing journey. <font size='3'>😉</font><font size='5'>⛵</font>"
   ]
  }
 ],
 "metadata": {
  "kernelspec": {
   "display_name": "Python 3 (ipykernel)",
   "language": "python",
   "name": "python3"
  },
  "language_info": {
   "codemirror_mode": {
    "name": "ipython",
    "version": 3
   },
   "file_extension": ".py",
   "mimetype": "text/x-python",
   "name": "python",
   "nbconvert_exporter": "python",
   "pygments_lexer": "ipython3",
   "version": "3.11.6"
  }
 },
 "nbformat": 4,
 "nbformat_minor": 5
}

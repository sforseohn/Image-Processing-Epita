{
 "cells": [
  {
   "cell_type": "code",
   "execution_count": null,
   "id": "d53735ce-30f2-41a7-9d87-ba01bfc8ad1b",
   "metadata": {},
   "outputs": [],
   "source": [
    "from skimage import morphology\n",
    "%run functions/image_processing_v3.ipynb\n",
    "\n",
    "try:\n",
    "    bin_no_ball\n",
    "except NameError:\n",
    "    bin_no_ball = None\n",
    "\n",
    "def image_processing_v4(image, threshold, binary_no_ball=bin_no_ball):\n",
    "    \n",
    "    clean_res = image_processing_v3(image, threshold)\n",
    "    \n",
    "    lbl = label(clean_res)\n",
    "    props = regionprops(lbl)\n",
    "    \n",
    "    if len(props) > 0:\n",
    "        return (lbl == (1+np.argmax([region.area for region in props])))\n",
    "    else:\n",
    "        return clean_res\n",
    "\n",
    "\n",
    "# def ball_detection_v1(image, threshold, binary_no_ball=bin_no_ball):\n",
    "#     clean_res = image_processing_v3(image, threshold)\n",
    "#     image_res = image.copy()\n",
    "#     lbl = label(clean_res)\n",
    "#     props = regionprops(lbl)\n",
    "#     if len(props) > 0:\n",
    "#         the_region = np.argmax([region.area for region in props])\n",
    "#         draw_bounding_box(image_res, props[the_region].bbox, 'yellow')\n",
    "\n",
    "#         # saving the position of the center\n",
    "#         position_sequence.append(props[the_region].centroid)\n",
    "#         id_sequence = len(position_sequence) - 1\n",
    "\n",
    "#     draw_trajectory(image_res, position_sequence)\n",
    "        \n",
    "#     return image_res"
   ]
  }
 ],
 "metadata": {
  "kernelspec": {
   "display_name": "Python 3 (ipykernel)",
   "language": "python",
   "name": "python3"
  },
  "language_info": {
   "codemirror_mode": {
    "name": "ipython",
    "version": 3
   },
   "file_extension": ".py",
   "mimetype": "text/x-python",
   "name": "python",
   "nbconvert_exporter": "python",
   "pygments_lexer": "ipython3",
   "version": "3.10.14"
  }
 },
 "nbformat": 4,
 "nbformat_minor": 5
}

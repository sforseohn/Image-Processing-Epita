{
 "cells": [
  {
   "cell_type": "code",
   "execution_count": 1,
   "id": "4c179573-6962-47eb-95a0-7162369f1025",
   "metadata": {},
   "outputs": [],
   "source": [
    "from skimage import img_as_ubyte\n",
    "\n",
    "def treat_video(video_frames, threshold, our_func):\n",
    "    '''\n",
    "    Function allowing to apply a fonction on each frame of a video.\n",
    "    video_frames: sequence of frames to treat. Each frame is an image.\n",
    "    threshold: grayscale value in [0, 255] to use for the binarization.\n",
    "    our_func: a function that will be called for each frame of the video.\n",
    "                This function is meant to gather a set of image processing tasks.\n",
    "    returns: a list of images corresponding to the results\n",
    "    '''\n",
    "    treated_frames = []\n",
    "    for frame in video_frames:\n",
    "        treated_frames.append(img_as_ubyte(our_func(frame, threshold)))\n",
    "    return treated_frames"
   ]
  }
 ],
 "metadata": {
  "kernelspec": {
   "display_name": "Python 3 (ipykernel)",
   "language": "python",
   "name": "python3"
  },
  "language_info": {
   "codemirror_mode": {
    "name": "ipython",
    "version": 3
   },
   "file_extension": ".py",
   "mimetype": "text/x-python",
   "name": "python",
   "nbconvert_exporter": "python",
   "pygments_lexer": "ipython3",
   "version": "3.10.14"
  }
 },
 "nbformat": 4,
 "nbformat_minor": 5
}

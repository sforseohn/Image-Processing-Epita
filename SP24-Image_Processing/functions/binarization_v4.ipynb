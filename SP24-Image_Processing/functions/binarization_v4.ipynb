{
 "cells": [
  {
   "cell_type": "code",
   "execution_count": null,
   "id": "e7edebbb-005f-4924-bd4c-12bc12822398",
   "metadata": {},
   "outputs": [],
   "source": [
    "import skimage.color as color\n",
    "from skimage import img_as_ubyte\n",
    "from skimage.filters import difference_of_gaussians\n",
    "from skimage.filters import threshold_otsu\n",
    "%run functions/image_processing_v2.ipynb\n",
    "\n",
    "def binarization_v4(image, background_image, slicey, slicex, threshold):\n",
    "\n",
    "    # No ball image\n",
    "    nb_image = background_image[slicey, slicex]\n",
    "    # print(f\"slicey: {slicey}\")\n",
    "    # print(f\"slicex: {slicex}\")\n",
    "    # nb_gray = img_as_ubyte(color.rgb2gray(nb_image))\n",
    "    # nb_bp_filter = img_as_ubyte(difference_of_gaussians(nb_gray, 1, 12))\n",
    "    # bin_nb_otsu = bin_threshold(nb_bp_filter, threshold_otsu(nb_bp_filter))\n",
    "    bin_nb_otsu = image_processing_v2(nb_image, threshold)\n",
    "    bin_res = image_processing_v2(image, threshold)\n",
    "    \n",
    "    return bin_res ^ bin_nb_otsu"
   ]
  }
 ],
 "metadata": {
  "kernelspec": {
   "display_name": "Python 3 (ipykernel)",
   "language": "python",
   "name": "python3"
  },
  "language_info": {
   "codemirror_mode": {
    "name": "ipython",
    "version": 3
   },
   "file_extension": ".py",
   "mimetype": "text/x-python",
   "name": "python",
   "nbconvert_exporter": "python",
   "pygments_lexer": "ipython3",
   "version": "3.10.14"
  }
 },
 "nbformat": 4,
 "nbformat_minor": 5
}

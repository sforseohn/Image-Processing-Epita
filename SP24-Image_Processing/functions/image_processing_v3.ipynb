{
 "cells": [
  {
   "cell_type": "code",
   "execution_count": null,
   "id": "d53735ce-30f2-41a7-9d87-ba01bfc8ad1b",
   "metadata": {},
   "outputs": [],
   "source": [
    "from skimage import morphology\n",
    "%run functions/image_processing_v2.ipynb\n",
    "\n",
    "try:\n",
    "    bin_no_ball\n",
    "except NameError:\n",
    "    bin_no_ball = None\n",
    "\n",
    "def image_processing_v3(image, threshold, binary_no_ball=bin_no_ball):\n",
    "    \n",
    "    if binary_no_ball is None:\n",
    "        print(f\"bin no ball none\")\n",
    "        return binary_no_ball\n",
    "    \n",
    "    bin_res = image_processing_v2(image, threshold)\n",
    "    clean = bin_res ^ binary_no_ball\n",
    "\n",
    "    rm_small = morphology.remove_small_objects(clean, 100)\n",
    "    \n",
    "    se_disk = morphology.disk(2)\n",
    "    erosion = morphology.erosion(rm_small, se_disk)\n",
    "\n",
    "    return erosion"
   ]
  }
 ],
 "metadata": {
  "kernelspec": {
   "display_name": "Python 3 (ipykernel)",
   "language": "python",
   "name": "python3"
  },
  "language_info": {
   "codemirror_mode": {
    "name": "ipython",
    "version": 3
   },
   "file_extension": ".py",
   "mimetype": "text/x-python",
   "name": "python",
   "nbconvert_exporter": "python",
   "pygments_lexer": "ipython3",
   "version": "3.10.14"
  }
 },
 "nbformat": 4,
 "nbformat_minor": 5
}

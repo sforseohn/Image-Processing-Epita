{
 "cells": [
  {
   "cell_type": "code",
   "execution_count": null,
   "id": "da74b322-977b-44a8-a08c-f3017dfa9065",
   "metadata": {
    "editable": true,
    "scrolled": true,
    "slideshow": {
     "slide_type": ""
    },
    "tags": []
   },
   "outputs": [],
   "source": [
    "%matplotlib widget\n",
    "\n",
    "from ipywidgets import interact\n",
    "import ipywidgets as widgets\n",
    "import skimage.color\n",
    "\n",
    "@interact(threshold=widgets.FloatSlider(value=100,min=0,max=255,step=1,description='Threshold',continuous_update=False))\n",
    "def hist_bin_slider(threshold):\n",
    "    plt.close()\n",
    "    img_hist = np.bincount(g_img.ravel(), minlength=256)\n",
    "    bin_thr = bin_threshold(g_img, threshold)\n",
    "    fig = plt.figure(figsize=(10,6))\n",
    "    fig.canvas.header_visible = False\n",
    "    gs = fig.add_gridspec(2, 2)\n",
    "    fig.add_subplot(gs[0,0])\n",
    "    plt.imshow(g_img, cmap=\"gray\")\n",
    "    plt.title(\"Ubyte grayscale image\" )\n",
    "    fig.add_subplot(gs[1,0])\n",
    "    plt.imshow(bin_thr, cmap=\"gray\")\n",
    "    plt.title(f\"Binary image after threshold: {int(threshold)}\")\n",
    "    fig.add_subplot(gs[0:,-1])\n",
    "    plt.bar(np.arange(256), img_hist, width=1, label=\"Histogram\")\n",
    "    plt.xlabel(\"Pixel values\")\n",
    "    plt.ylabel(\"Number of pixels\")\n",
    "    plt.axvline(threshold, color='r', linewidth=2, linestyle= '--', label='Threshold')\n",
    "    plt.legend()\n",
    "    plt.axis('tight')\n",
    "    plt.show(False)"
   ]
  }
 ],
 "metadata": {
  "kernelspec": {
   "display_name": "Python 3 (ipykernel)",
   "language": "python",
   "name": "python3"
  },
  "language_info": {
   "codemirror_mode": {
    "name": "ipython",
    "version": 3
   },
   "file_extension": ".py",
   "mimetype": "text/x-python",
   "name": "python",
   "nbconvert_exporter": "python",
   "pygments_lexer": "ipython3",
   "version": "3.10.14"
  }
 },
 "nbformat": 4,
 "nbformat_minor": 5
}

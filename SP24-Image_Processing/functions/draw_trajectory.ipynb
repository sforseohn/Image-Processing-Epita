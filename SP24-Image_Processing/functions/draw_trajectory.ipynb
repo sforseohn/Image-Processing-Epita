{
 "cells": [
  {
   "cell_type": "code",
   "execution_count": null,
   "id": "acc8e92a-9031-4c4d-a7ac-8f15560a54e3",
   "metadata": {},
   "outputs": [],
   "source": [
    "from skimage.draw import line\n",
    "\n",
    "def draw_trajectory(image, position_sequence):\n",
    "    \n",
    "    for i in range(len(position_sequence)):\n",
    "        if i > 0:\n",
    "            y_start, x_start = position_sequence[i]\n",
    "            y_end, x_end = position_sequence[i-1]\n",
    "            lr, lc = line(int(y_start), int(x_start), int(y_end), int(x_end))\n",
    "            image[lr, lc, 0] = 255\n",
    "            image[lr, lc, 2] = 255"
   ]
  }
 ],
 "metadata": {
  "kernelspec": {
   "display_name": "Python 3 (ipykernel)",
   "language": "python",
   "name": "python3"
  },
  "language_info": {
   "codemirror_mode": {
    "name": "ipython",
    "version": 3
   },
   "file_extension": ".py",
   "mimetype": "text/x-python",
   "name": "python",
   "nbconvert_exporter": "python",
   "pygments_lexer": "ipython3",
   "version": "3.10.14"
  }
 },
 "nbformat": 4,
 "nbformat_minor": 5
}

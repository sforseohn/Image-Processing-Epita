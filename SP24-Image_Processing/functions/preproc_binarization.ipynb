{
 "cells": [
  {
   "cell_type": "code",
   "execution_count": 1,
   "id": "04694288-6b3e-4276-9361-6db673c97c02",
   "metadata": {},
   "outputs": [],
   "source": [
    "from skimage import img_as_ubyte\n",
    "from skimage.color import rgb2gray\n",
    "from skimage.filters import difference_of_gaussians\n",
    "from skimage.filters import threshold_otsu\n",
    "%run bin_threshold.ipynb\n",
    "\n",
    "def preproc_binarization(img):\n",
    "\n",
    "    # RBG to grayscale\n",
    "    gray = img_as_ubyte(color.rgb2gray(img))\n",
    "\n",
    "    # Preprocessing using the difference of gaussians\n",
    "    low_sigma = 1\n",
    "    high_sigma = 12\n",
    "    gray_no_shadow = img_as_ubyte(difference_of_gaussians(nb_gray, low_sigma, high_sigma))\n",
    "\n",
    "    # Automated otsu threshold\n",
    "    otsu_thr = threshold_otsu(gray_no_shadow)\n",
    "    \n",
    "    # Binary result\n",
    "    return bin_threshold(gray_no_shadow, otsu_thr)"
   ]
  }
 ],
 "metadata": {
  "kernelspec": {
   "display_name": "Python 3 (ipykernel)",
   "language": "python",
   "name": "python3"
  },
  "language_info": {
   "codemirror_mode": {
    "name": "ipython",
    "version": 3
   },
   "file_extension": ".py",
   "mimetype": "text/x-python",
   "name": "python",
   "nbconvert_exporter": "python",
   "pygments_lexer": "ipython3",
   "version": "3.10.14"
  }
 },
 "nbformat": 4,
 "nbformat_minor": 5
}

{
 "cells": [
  {
   "cell_type": "code",
   "execution_count": 1,
   "id": "a42e2192-8beb-4183-b29a-b1648b06aae8",
   "metadata": {},
   "outputs": [],
   "source": [
    "def np_hist(grayscale_img):\n",
    "    '''\n",
    "    Using nupy's power to computer the histogram\n",
    "    g_img: grayscale image to treat.\n",
    "    return an array having the number of pixels having the same values\n",
    "    '''\n",
    "    return np.bincount(grayscale_img.ravel(), minlength=256)"
   ]
  }
 ],
 "metadata": {
  "kernelspec": {
   "display_name": "Python 3 (ipykernel)",
   "language": "python",
   "name": "python3"
  },
  "language_info": {
   "codemirror_mode": {
    "name": "ipython",
    "version": 3
   },
   "file_extension": ".py",
   "mimetype": "text/x-python",
   "name": "python",
   "nbconvert_exporter": "python",
   "pygments_lexer": "ipython3",
   "version": "3.10.14"
  }
 },
 "nbformat": 4,
 "nbformat_minor": 5
}

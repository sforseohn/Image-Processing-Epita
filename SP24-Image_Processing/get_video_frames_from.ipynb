{
 "cells": [
  {
   "cell_type": "code",
   "execution_count": null,
   "id": "6c0d54fa-624a-40b3-9c3d-9df4e229efca",
   "metadata": {
    "editable": true,
    "slideshow": {
     "slide_type": ""
    },
    "tags": []
   },
   "outputs": [],
   "source": [
    "import imageio as iio\n",
    "\n",
    "def get_video_frames_from(video_path):\n",
    "    '''\n",
    "    Loading a video and putting each frames into a list.\n",
    "    video_path: path leading to the video.\n",
    "    returns: a list of all frames of the loaded video.\n",
    "    '''\n",
    "    # Loading the video\n",
    "    video_reader = iio.get_reader(video_path)\n",
    "\n",
    "    # Copying the frames into a list\n",
    "    video_frames = []\n",
    "    iterator = video_reader.iter_data() \n",
    "    for img in iterator:\n",
    "        video_frames.append(img)\n",
    "\n",
    "    # Closing the reader\n",
    "    video_reader.close()\n",
    "\n",
    "    # Return a list of frames\n",
    "    return video_frames"
   ]
  }
 ],
 "metadata": {
  "kernelspec": {
   "display_name": "Python 3 (ipykernel)",
   "language": "python",
   "name": "python3"
  },
  "language_info": {
   "codemirror_mode": {
    "name": "ipython",
    "version": 3
   },
   "file_extension": ".py",
   "mimetype": "text/x-python",
   "name": "python",
   "nbconvert_exporter": "python",
   "pygments_lexer": "ipython3",
   "version": "3.10.14"
  }
 },
 "nbformat": 4,
 "nbformat_minor": 5
}

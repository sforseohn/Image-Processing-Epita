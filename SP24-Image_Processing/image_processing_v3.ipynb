{
 "cells": [
  {
   "cell_type": "code",
   "execution_count": null,
   "id": "d53735ce-30f2-41a7-9d87-ba01bfc8ad1b",
   "metadata": {},
   "outputs": [],
   "source": [
    "from skimage import morphology\n",
    "%run functions/image_processing_v2.ipynb\n",
    "\n",
    "try:\n",
    "    bin_no_ball\n",
    "except NameError:\n",
    "    bin_no_ball = None\n",
    "\n",
    "def image_processing_v3(image, threshold, binary_no_ball=bin_no_ball):\n",
    "    '''\n",
    "    Implementation of an image processing pipeline.\n",
    "    image: np.ndarray to treat\n",
    "    threshold: pixel value used as a threshold for a binary thresholding. \n",
    "    By default, threshold='otsu' which mean that the threshold is given\n",
    "    automatically.\n",
    "    binary_no_ball: binary image containing the segments of the non moving\n",
    "    objects and artifacts. By default, we will use what is in bin_no_ball\n",
    "    which is a global variable that should contain a result of the call\n",
    "    of the function image_processing_v2(...) on an image not containing the ball\n",
    "    returns: a bool binary image\n",
    "    '''\n",
    "    if binary_no_ball is None:\n",
    "        print(f\"bin no ball none\")\n",
    "        return binary_no_ball\n",
    "    \n",
    "    bin_res = image_processing_v2(image, threshold)\n",
    "    clean = bin_res ^ binary_no_ball\n",
    "\n",
    "    # rm_small = morphology.remove_small_objects(clean, 100)\n",
    "    \n",
    "    se_disk = morphology.disk(4)\n",
    "    erosion = morphology.erosion(clean, se_disk)\n",
    "\n",
    "    return erosion"
   ]
  }
 ],
 "metadata": {
  "kernelspec": {
   "display_name": "Python 3 (ipykernel)",
   "language": "python",
   "name": "python3"
  },
  "language_info": {
   "codemirror_mode": {
    "name": "ipython",
    "version": 3
   },
   "file_extension": ".py",
   "mimetype": "text/x-python",
   "name": "python",
   "nbconvert_exporter": "python",
   "pygments_lexer": "ipython3",
   "version": "3.10.14"
  }
 },
 "nbformat": 4,
 "nbformat_minor": 5
}
